{
  "nbformat": 4,
  "nbformat_minor": 0,
  "metadata": {
    "colab": {
      "name": "hackteam12-pipeline-challenge-sdg-sankey.ipynb",
      "provenance": [],
      "collapsed_sections": []
    },
    "kernelspec": {
      "name": "python3",
      "display_name": "Python 3"
    },
    "language_info": {
      "name": "python"
    }
  },
  "cells": [
    {
      "cell_type": "markdown",
      "metadata": {
        "id": "kk8pwHBlk0pj"
      },
      "source": [
        "# Sankey diagrams - Project to primary and secondary SDG mapping\n",
        "This has been tested with \"Pipeline data Social Finance Israel.csv\"."
      ]
    },
    {
      "cell_type": "code",
      "metadata": {
        "id": "hfOvw-N-kgjb"
      },
      "source": [
        "import io\n",
        "\n",
        "import pandas as pd\n",
        "import plotly.graph_objects as go\n",
        "\n",
        "from google.colab import files"
      ],
      "execution_count": null,
      "outputs": []
    },
    {
      "cell_type": "markdown",
      "metadata": {
        "id": "HPv9VMlllE9V"
      },
      "source": [
        "# Upload a file"
      ]
    },
    {
      "cell_type": "code",
      "metadata": {
        "id": "ZLURdyaNlWRR"
      },
      "source": [
        "uploaded = files.upload()\n",
        "\n",
        "filename = list(uploaded.keys())[0]"
      ],
      "execution_count": null,
      "outputs": []
    },
    {
      "cell_type": "markdown",
      "metadata": {
        "id": "IPUSRlN_oDx1"
      },
      "source": [
        "# Create a Pandas dataframe\n",
        "\n",
        "Convert the csv file in to a Pandas dataframe and have a quick look at the data."
      ]
    },
    {
      "cell_type": "code",
      "metadata": {
        "id": "JSM_macxoIxw"
      },
      "source": [
        "# Use the file name from the last upload, or modify for previously uploaded files.\n",
        "df = pd.read_csv(filename)\n",
        "\n",
        "print(filename)\n",
        "df"
      ],
      "execution_count": null,
      "outputs": []
    },
    {
      "cell_type": "markdown",
      "metadata": {
        "id": "H5UIJQ-_pZsq"
      },
      "source": [
        "# Setup helper methods"
      ]
    },
    {
      "cell_type": "code",
      "metadata": {
        "id": "AVdCHu5Ypen2"
      },
      "source": [
        "# Choose the column indexes to plot\n",
        "PROJECT_COL_INDEX = 17\n",
        "PRIMARY_SDG_COL_INDEX = 35\n",
        "SECONDARY_SDG_COL_INDEX = 36\n",
        "\n",
        "\n",
        "# Setup some colours for the SDGs\n",
        "DEFAULT_COLOUR = '#AAAAAA'\n",
        "\n",
        "\n",
        "SDG_GOAL_MAP = {\n",
        "    'Goal 1: no poverty': {\n",
        "        'name': '1. No poverty',\n",
        "        'node_colour': '#e5243b',\n",
        "        'link_colour': 'rgba(229, 36, 59, 0.5)',\n",
        "    },\n",
        "    'Goal 2: zero hunger': {\n",
        "        'name': '2. Zero hunger',\n",
        "        'node_colour': '#DDA63A',\n",
        "        'link_colour': 'rgba(221, 166, 58, 0.5)',\n",
        "    },\n",
        "    'Goal 3: good health and well-being': {\n",
        "        'name': '3. Good health and wellbeing',\n",
        "        'node_colour': '#4C9F38',\n",
        "        'link_colour': 'rgba(76, 159, 56, 0.5)',\n",
        "    },\n",
        "    'Goal 4: quality education': {\n",
        "        'name': '4. Quality education',\n",
        "        'node_colour': '#C5192D',\n",
        "        'link_colour': 'rgba(197, 25, 45, 0.5)',\n",
        "    },\n",
        "    'Goal 5: gender equality': {\n",
        "        'name': '5. Gender equality',\n",
        "        'node_colour': '#FF3A21',\n",
        "        'link_colour': 'rgba(255, 58, 33, 0.5)',\n",
        "    },\n",
        "    'Goal 6': {\n",
        "        'name': '6. Clean water and sanitation',\n",
        "        'node_colour': '#26BDE2',\n",
        "        'link_colour': 'rgba(38, 189, 226, 0.5)',\n",
        "    },\n",
        "    'Goal 7': {\n",
        "        'name': '7. Affordable and clean energy',\n",
        "        'node_colour': '#FCC30B',\n",
        "        'link_colour': 'rgba(252, 195, 11, 0.5)',\n",
        "    },\n",
        "    'Goal 8: decent work and economic growth': {\n",
        "        'name': '8. Work and economic growth',\n",
        "        'node_colour': '#A21942',\n",
        "        'link_colour': 'rgba(162, 25, 66, 0.5)',\n",
        "    },\n",
        "    'Goal 9': {\n",
        "        'name': '9. Industry, innovation and infrastructure',\n",
        "        'node_colour': '#FD6925',\n",
        "        'link_colour': 'rgba(253, 105, 37, 0.5)',\n",
        "    },\n",
        "    'Goal 10: reduced inequality': {\n",
        "        'name': '10. Reduced inequalities',\n",
        "        'node_colour': '#DD1367',\n",
        "        'link_colour': 'rgba(221, 19, 103, 0.5)',\n",
        "    },\n",
        "    'Goal 11': {\n",
        "        'name': '11. Sustainable cities and communities',\n",
        "        'node_colour': '#FD9D24',\n",
        "        'link_colour': 'rgba(253, 157, 36, 0.5)',\n",
        "    },\n",
        "    'Goal 12': {\n",
        "        'name': '12. Responsible consumption and production',\n",
        "        'node_colour': '#BF8B2E',\n",
        "        'link_colour': 'rgba(191, 139, 46, 0.5)',\n",
        "    },\n",
        "    'Goal 13': {\n",
        "        'name': '13. Climate action',\n",
        "        'node_colour': '#3F7E44',\n",
        "        'link_colour': 'rgba(63, 126, 68, 0.5)',\n",
        "    },\n",
        "    'Goal 14': {\n",
        "        'name': '14. Life below water',\n",
        "        'node_colour': '#0A97D9',\n",
        "        'link_colour': 'rgba(10, 151, 217, 0.5)',\n",
        "    },\n",
        "    'Goal 15': {\n",
        "        'name': '15. Life on land',\n",
        "        'node_colour': '#56C02B',\n",
        "        'link_colour': 'rgba(86, 192, 43, 0.5)',\n",
        "    },\n",
        "    'Goal 16': {\n",
        "        'name': '16. Peace, justice and strong institutions',\n",
        "        'node_colour': '#00689D',\n",
        "        'link_colour': 'rgba(0, 104, 157, 0.5)',\n",
        "    },\n",
        "    'Goal 17': {\n",
        "        'name': '17. Partnerships for the goals',\n",
        "        'color': '#19486A',\n",
        "        'link_colour': 'rgba(25, 72, 106, 0.5)',\n",
        "    },\n",
        "}\n",
        "\n",
        "\n",
        "\n",
        "def add_node(nodes, source, target, value):\n",
        "    \"\"\"\n",
        "    Add a node with source and target\n",
        "    \"\"\"\n",
        "    if source and target:\n",
        "        key = f'{source}_{target}'\n",
        "\n",
        "        if key in nodes:\n",
        "            nodes[key]['value'] += value\n",
        "        else:\n",
        "            nodes[key] = {\n",
        "                'source': source,\n",
        "                'target': target,\n",
        "                'value': value,\n",
        "            }\n",
        "\n",
        "\n",
        "def make_node_data(labels):\n",
        "    \"\"\"\n",
        "    Make the sankey diagram node data\n",
        "    \"\"\"\n",
        "    names = []\n",
        "    node_colours = []\n",
        "\n",
        "    for label in labels:\n",
        "\n",
        "        # Set the node names and colours\n",
        "        names.append(SDG_GOAL_MAP.get(label, {}).get('name') or label)\n",
        "        \n",
        "        node_color = SDG_GOAL_MAP.get(label, {}).get('node_colour') or DEFAULT_COLOUR\n",
        "        node_colours.append(node_color)\n",
        "\n",
        "    return {\n",
        "        'label': names,\n",
        "        'color': node_colours,\n",
        "    }\n",
        "\n",
        "\n",
        "def make_link_data(nodes, labels):\n",
        "    \"\"\"\n",
        "    Make the sankey diagram link data\n",
        "    \"\"\"\n",
        "    source = []\n",
        "    target = []\n",
        "    value = []\n",
        "    link_colours = []\n",
        "\n",
        "    for node in nodes.values():\n",
        "        node_source = node['source']\n",
        "        node_target = node['target']\n",
        "        node_value = node['value']\n",
        "\n",
        "        source.append(labels.index(node_source))\n",
        "        target.append(labels.index(node_target))\n",
        "        value.append(node_value)\n",
        "\n",
        "        link_colour = None\n",
        "\n",
        "        # Try to find the colour for the link in the SDG_GOAL_MAP\n",
        "        for key in [node_source, node_target]:\n",
        "            link_colour = SDG_GOAL_MAP.get(key, {}).get('link_colour')\n",
        "\n",
        "            if link_colour:\n",
        "                break\n",
        "        \n",
        "        link_colours.append(link_colour or DEFAULT_COLOUR)\n",
        "\n",
        "    return {\n",
        "        'source': source,\n",
        "        'target': target,\n",
        "        'value': value,\n",
        "        'color': link_colours,\n",
        "    }"
      ],
      "execution_count": null,
      "outputs": []
    },
    {
      "cell_type": "markdown",
      "metadata": {
        "id": "wwk4nASJp1AI"
      },
      "source": [
        "# Plot method\n"
      ]
    },
    {
      "cell_type": "code",
      "metadata": {
        "id": "gTkqPnKDp29_"
      },
      "source": [
        "def build_plot(source_index, target_index, title):\n",
        "    nodes = {}\n",
        "    source_labels = []\n",
        "    target_labels = []\n",
        "\n",
        "    # Generate plot data\n",
        "    for i, row in df.iterrows():\n",
        "\n",
        "        # Skip the first header row\n",
        "        if i == 0:\n",
        "            continue\n",
        "\n",
        "        # Get the project and primary SDG\n",
        "        project = row[source_index]\n",
        "        sdg = row[target_index]\n",
        "        \n",
        "        # Check we have some data and it is the right type\n",
        "        if project and isinstance(sdg, str):\n",
        "            \n",
        "            source = project.strip()\n",
        "            target = sdg.strip()\n",
        "\n",
        "            source_labels.append(source)\n",
        "            target_labels.append(target)\n",
        "\n",
        "            add_node(nodes, source, target, 1)\n",
        "    \n",
        "    # Build the plot\n",
        "    labels = source_labels + target_labels\n",
        "\n",
        "    # Make the node data\n",
        "    node_data = make_node_data(labels)\n",
        "\n",
        "    node_data.update({\n",
        "        'pad': 20,\n",
        "        'thickness': 15,\n",
        "        'line': {\n",
        "            'color': 'white',\n",
        "            'width': 1,\n",
        "        },\n",
        "    })\n",
        "\n",
        "    # Make the link data dictionary\n",
        "    link_data = make_link_data(nodes, labels)\n",
        "\n",
        "    plot_data = [\n",
        "        go.Sankey(\n",
        "            node=node_data,\n",
        "            link=link_data,\n",
        "            arrangement='perpendicular',\n",
        "        ),\n",
        "    ]\n",
        "\n",
        "    fig = go.Figure(\n",
        "        data=plot_data,\n",
        "    )\n",
        "\n",
        "    fig.update_layout(\n",
        "        height=800,\n",
        "    )\n",
        "\n",
        "    fig.update_layout(\n",
        "        title=title,\n",
        "        title_x=0.5,\n",
        "    )\n",
        "    fig.show()"
      ],
      "execution_count": null,
      "outputs": []
    },
    {
      "cell_type": "markdown",
      "metadata": {
        "id": "uAo7YMRoqH4G"
      },
      "source": [
        "# Build plot"
      ]
    },
    {
      "cell_type": "code",
      "metadata": {
        "id": "l-8TnyQevuz5"
      },
      "source": [
        "build_plot(PROJECT_COL_INDEX, PRIMARY_SDG_COL_INDEX, 'Projects to Primary SDGs')\n",
        "build_plot(PROJECT_COL_INDEX, SECONDARY_SDG_COL_INDEX, 'Projects to Secondary SDGs')"
      ],
      "execution_count": null,
      "outputs": []
    }
  ]
}